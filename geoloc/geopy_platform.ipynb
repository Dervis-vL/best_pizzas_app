{
 "cells": [
  {
   "cell_type": "markdown",
   "source": [
    "<h1>Geolocation fetch via Geopy Platform</h1>\r\n",
    "https://geopy.readthedocs.io/en/stable/\r\n",
    "\r\n",
    "<h3>\r\n",
    "This notebook is a script to get the geolocation of addresses or places from the geopy platform via Google. To do so you need to comply with the terms.</h3>\r\n",
    "\r\n",
    "Input: Locations or addresses in JSON file\r\n",
    "\r\n",
    "Output: JSON file with the locations and corresponding geolocations\r\n",
    "\r\n",
    "Return: Nothing"
   ],
   "metadata": {}
  },
  {
   "cell_type": "code",
   "execution_count": null,
   "source": [
    "from geopy.geocoders import nominatim, GoogleV3"
   ],
   "outputs": [],
   "metadata": {}
  },
  {
   "cell_type": "code",
   "execution_count": null,
   "source": [
    "# sign into the database\r\n",
    "geolocator = Nominatim(user_agent=\"pizza app\")\r\n",
    "\r\n",
    "data = geolocator.geocode(\"Pepe in Grani\" + \", \" + \"Campania\")\r\n",
    "data.raw.get(\"lat\"), data.raw.get(\"lon\")\r\n",
    "\r\n",
    "data.point.latitude, data.point.longitude"
   ],
   "outputs": [],
   "metadata": {}
  }
 ],
 "metadata": {
  "orig_nbformat": 4,
  "language_info": {
   "name": "python"
  }
 },
 "nbformat": 4,
 "nbformat_minor": 2
}