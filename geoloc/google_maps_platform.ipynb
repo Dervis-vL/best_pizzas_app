{
 "cells": [
  {
   "cell_type": "markdown",
   "metadata": {},
   "source": [
    "Step 2\n",
    "\n",
    "<h1>Geolocation fetch via Google Maps Platform</h1>\n",
    "<h3>\n",
    "This notebook is a script to get the geolocation of addresses or places from the Google Maps Platform. To do so you need to register to the Google Developers Platform to get an API key.</h3>\n",
    "\n",
    "Input: Locations or addresses in JSON file, Google API key\n",
    "\n",
    "Output: JSON file with the locations and corresponding geolocations\n",
    "\n",
    "Return: Nothing"
   ]
  },
  {
   "cell_type": "code",
   "execution_count": null,
   "metadata": {},
   "outputs": [],
   "source": [
    "import requests, json, urllib"
   ]
  },
  {
   "cell_type": "code",
   "execution_count": null,
   "metadata": {},
   "outputs": [],
   "source": [
    "# get api key and store it to variable key\n",
    "with open('google_API_key.json') as api_key:\n",
    "    key = json.load(api_key)\n",
    "\n",
    "auth_key = key.get(\"wbpKey\")\n",
    "\n",
    "api_key.close()"
   ]
  },
  {
   "cell_type": "code",
   "execution_count": null,
   "metadata": {},
   "outputs": [],
   "source": [
    "# store the google maps base URL to a variable\n",
    "base_url = \"https://maps.googleapis.com/maps/api/geocode/json?\""
   ]
  },
  {
   "cell_type": "code",
   "execution_count": null,
   "metadata": {},
   "outputs": [],
   "source": [
    "# input parameters of places to get the geologaion of: addresses, names, cities, countries\n",
    "path = 'C:\\\\programming\\\\Code\\\\pizza map\\\\pizza data\\\\pizza_loc_data.json'\n",
    "with open(path, 'r', encoding='utf8') as places:\n",
    "    data = json.load(places)\n",
    "\n",
    "places.close()"
   ]
  },
  {
   "cell_type": "code",
   "execution_count": null,
   "metadata": {},
   "outputs": [],
   "source": [
    "# loop throught the data to get the name of all pizza places\n",
    "length_IT = len(data.get(\"Italy\"))\n",
    "\n",
    "for loc in range(length_IT):\n",
    "    print(loc)\n",
    "    name_IT = data.get(\"Italy\")[loc].get(\"address\")\n",
    "\n",
    "    parameter = {\"address\": name_IT,\n",
    "                \"key\": auth_key}\n",
    "                \n",
    "    # form complete url and get location data from google as output\n",
    "    url = f\"{base_url}{urllib.parse.urlencode(parameter)}\"\n",
    "    output = requests.get(url)\n",
    "    loc_data = json.loads(output.content)\n",
    "\n",
    "    # go through the output in json format to the right layer to get the geoloaction of parameter(s)\n",
    "    geoloc = loc_data.get(\"results\")[0].get(\"geometry\").get(\"location\")\n",
    "\n",
    "    # append the geolocation to location data\n",
    "    add_geoloc = data.get(\"Italy\")[loc]\n",
    "    add_geoloc[\"geoloc\"] = geoloc\n",
    "\n",
    "\n",
    "length_EU = len(data.get(\"Europe\"))\n",
    "\n",
    "for loc in range(length_EU):\n",
    "    name_EU = data.get(\"Europe\")[loc].get(\"name\")\n",
    "    city_EU = data.get(\"Europe\")[loc].get(\"city\")\n",
    "\n",
    "    parameter = {\"address\": name_EU + \" \" + city_EU,\n",
    "                \"key\": auth_key}\n",
    "    \n",
    "    # form complete url and get location data from google as output\n",
    "    url = f\"{base_url}{urllib.parse.urlencode(parameter)}\"\n",
    "    output = requests.get(url)\n",
    "    loc_data = json.loads(output.content)\n",
    "\n",
    "    # go through the output in json format to the right layer to get the geoloaction of parameter(s)\n",
    "    geoloc = loc_data.get(\"results\")[0].get(\"geometry\").get(\"location\")\n",
    "\n",
    "    # append the geolocation to location data\n",
    "    add_geoloc = data.get(\"Europe\")[loc]\n",
    "    add_geoloc[\"geoloc\"] = geoloc\n",
    "\n",
    "# update the json file by rewriting over the existing data to complete the information json file\n",
    "with open(path, 'w', encoding='utf8') as places:\n",
    "    json.dump(data, places, indent=4, ensure_ascii=False)\n",
    "\n",
    "places.close()\n"
   ]
  }
 ],
 "metadata": {
  "interpreter": {
   "hash": "ac59ebe37160ed0dfa835113d9b8498d9f09ceb179beaac4002f036b9467c963"
  },
  "kernelspec": {
   "display_name": "Python 3.9.1 64-bit",
   "name": "python3"
  },
  "language_info": {
   "codemirror_mode": {
    "name": "ipython",
    "version": 3
   },
   "file_extension": ".py",
   "mimetype": "text/x-python",
   "name": "python",
   "nbconvert_exporter": "python",
   "pygments_lexer": "ipython3",
   "version": "3.9.1"
  },
  "orig_nbformat": 4
 },
 "nbformat": 4,
 "nbformat_minor": 2
}
